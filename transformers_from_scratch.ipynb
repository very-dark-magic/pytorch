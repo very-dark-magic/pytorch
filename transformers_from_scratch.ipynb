{
 "cells": [
  {
   "cell_type": "code",
   "execution_count": 15,
   "metadata": {},
   "outputs": [],
   "source": [
    "import torch\n",
    "import torch.nn as nn\n",
    "import torch.nn.functional as F\n",
    "\n",
    "# http://peterbloem.nl/blog/transformers"
   ]
  },
  {
   "cell_type": "markdown",
   "metadata": {},
   "source": [
    "## naive self-attention"
   ]
  },
  {
   "cell_type": "code",
   "execution_count": 21,
   "metadata": {},
   "outputs": [],
   "source": [
    "\"\"\"\n",
    "b, batch size\n",
    "t, sequence length\n",
    "k, vector dimension\n",
    "\"\"\"\n",
    "b, t, k = 4, 5, 16\n",
    "x = torch.randint(low=0, high=10, size=(b, t, k))\n",
    "x = x.float()"
   ]
  },
  {
   "cell_type": "code",
   "execution_count": 12,
   "metadata": {},
   "outputs": [],
   "source": [
    "# batched matrix multiplication with torch.bmm\n",
    "raw_weights = torch.bmm(x, x.transpose(1, 2))\n",
    "weights = F.softmax(raw_weights, dim=2)\n",
    "y = torch.bmm(weights, x)"
   ]
  },
  {
   "cell_type": "markdown",
   "metadata": {},
   "source": [
    "## complete self-attention"
   ]
  },
  {
   "cell_type": "code",
   "execution_count": 17,
   "metadata": {},
   "outputs": [],
   "source": [
    "class SelfAttention(nn.Module):\n",
    "    def __init__(self, k, heads=8):\n",
    "        super().__init__()\n",
    "        self.k, self.heads = k, heads\n",
    "        # concatenate heads together into a single matrix to speed up\n",
    "        self.tokeys = nn.Linear(k, k*heads, bias=False)\n",
    "        self.toqueries = nn.Linear(k, k*heads, bias=False)\n",
    "        self.tovalues = nn.Linear(k, k*heads, bias=False)\n",
    "        \n",
    "        # unify outputs of different heads into a single k-vector\n",
    "        self.unifyheads = nn.Linear(heads*k, k)\n",
    "        \n",
    "    def forward(self, x):\n",
    "        b, t, k = x.size()\n",
    "        h = self.heads\n",
    "        \n",
    "        queries = self.toqueries(x).view(b, t, h, k) # output: (b, t, h*k)\n",
    "        keys = self.tokeys(x).view(b, t, h, k)\n",
    "        values = self.tovalues(x).view(b, t, h, k)\n",
    "        \n",
    "        # fold heads into batch dimension\n",
    "        keys = keys.transpose(1, 2).contiguous().view(b*h, t, k) # transpose can be expensive operation\n",
    "        queries = queries.transpose(1, 2).contiguous().view(b*h, t, k)\n",
    "        values = values.transpose(1, 2).contiguous().view(b*h, t, k)\n",
    "        \n",
    "        # normalization\n",
    "        queries = queries / (k ** (1/4))\n",
    "        keys = keys / (k ** (1/4))\n",
    "        dot = torch.bmm(queries, keys.transpose(1, 2)) # output dimension: (b*h, t, t)\n",
    "        dot = F.softmax(dot, dim=2) # row-wise normalization\n",
    "        \n",
    "        out = torch.bmm(dot, values).view(b, h, t, k)\n",
    "        \n",
    "        out = out.transpose(1, 2).contiguous().view(b, t, h*k)\n",
    "        return self.unifyheads(out)"
   ]
  },
  {
   "cell_type": "code",
   "execution_count": 23,
   "metadata": {},
   "outputs": [],
   "source": [
    "self_att = SelfAttention(k)\n",
    "#self_att(x)"
   ]
  },
  {
   "cell_type": "code",
   "execution_count": 30,
   "metadata": {},
   "outputs": [],
   "source": [
    "class TransformerBlock(nn.Module):\n",
    "    def __init__(self, k, heads):\n",
    "        super().__init__()\n",
    "        self.attention = SelfAttention(k, heads = heads)\n",
    "        self.norm1 = nn.LayerNorm(k)\n",
    "        self.norm2 = nn.LayerNorm(k)\n",
    "        self.ff = nn.Sequential(\n",
    "                    nn.Linear(k, 4*k),\n",
    "                    nn.ReLU(),\n",
    "                    nn.Linear(4*k, k))\n",
    "        \n",
    "    def forward(self, x):\n",
    "        attended = self.attention(x)\n",
    "        x = self.norm1(attended + x)\n",
    "        feedforward = self.ff(x)\n",
    "        return self.norm2(feedforward + x)"
   ]
  },
  {
   "cell_type": "code",
   "execution_count": 31,
   "metadata": {},
   "outputs": [],
   "source": [
    "transformer_block = TransformerBlock(k, heads = 8)"
   ]
  },
  {
   "cell_type": "code",
   "execution_count": 33,
   "metadata": {},
   "outputs": [],
   "source": [
    "# transformer_block(x)"
   ]
  },
  {
   "cell_type": "markdown",
   "metadata": {},
   "source": [
    "## Trasformer-based Classifier"
   ]
  },
  {
   "cell_type": "code",
   "execution_count": 35,
   "metadata": {},
   "outputs": [],
   "source": [
    "class Transformer(nn.Module):\n",
    "    def __init__(self, k, heads, depth, seq_length, num_tokens, num_classes):\n",
    "        super().__init__()\n",
    "        self.num_tokens = num_tokens\n",
    "        self.token_emb = nn.Embedding(num_tokens, k)\n",
    "        self.pos_emb = nn.Embedding(seq_length, k)\n",
    "        \n",
    "        tblocks = []\n",
    "        for i in range(depth):\n",
    "            tblocks.append(TransformerBlock(k, heads))\n",
    "        self.tblocks = nn.Sequential(*tblocks)\n",
    "        \n",
    "        self.toprobs = nn.Linear(k, num_classes)\n",
    "        \n",
    "    def forward(self, x):\n",
    "        \"\"\"\n",
    "        :param x: A (b, t) tensor of integer values\n",
    "        :return: A (b, c) tensor of log-prob over the classes\n",
    "        \"\"\"\n",
    "        tokens = self.token_emb(x)\n",
    "        b, t, k = tokens.size()\n",
    "        # position embeddings\n",
    "        positions = torch.arange(t)\n",
    "        positions = self.pos_emb(positions)[None, :, :].expand(b, t, k)\n",
    "        \n",
    "        x = tokens + positions\n",
    "        x = self.tblocks(x)\n",
    "        \n",
    "        x = self.toprobs(x.mean(dim=1))\n",
    "        return F.log_softmax(x, dim=1)"
   ]
  },
  {
   "cell_type": "code",
   "execution_count": 36,
   "metadata": {},
   "outputs": [],
   "source": [
    "transformer = Transformer(k, 8, 2, 10, 20, 2)"
   ]
  },
  {
   "cell_type": "code",
   "execution_count": 43,
   "metadata": {},
   "outputs": [
    {
     "data": {
      "text/plain": [
       "tensor([[-0.9025, -0.5201],\n",
       "        [-0.8029, -0.5942],\n",
       "        [-0.6675, -0.7195],\n",
       "        [-0.5746, -0.8276]], grad_fn=<LogSoftmaxBackward>)"
      ]
     },
     "execution_count": 43,
     "metadata": {},
     "output_type": "execute_result"
    }
   ],
   "source": [
    "x = torch.randint(low=0, high=10, size=(b, t))\n",
    "\n",
    "transformer(x)"
   ]
  },
  {
   "cell_type": "code",
   "execution_count": null,
   "metadata": {},
   "outputs": [],
   "source": []
  }
 ],
 "metadata": {
  "kernelspec": {
   "display_name": "Python 3",
   "language": "python",
   "name": "python3"
  },
  "language_info": {
   "codemirror_mode": {
    "name": "ipython",
    "version": 3
   },
   "file_extension": ".py",
   "mimetype": "text/x-python",
   "name": "python",
   "nbconvert_exporter": "python",
   "pygments_lexer": "ipython3",
   "version": "3.6.10"
  }
 },
 "nbformat": 4,
 "nbformat_minor": 4
}
